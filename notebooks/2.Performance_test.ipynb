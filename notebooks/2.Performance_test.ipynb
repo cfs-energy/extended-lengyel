{
 "cells": [
  {
   "cell_type": "markdown",
   "metadata": {},
   "source": [
    "# Comparing the performance of the full model and the Kallenbach model\n",
    "\n",
    "Although we don't consider either model directly production ready, it's interesting to ask whether we've seen a significant change in performance."
   ]
  },
  {
   "cell_type": "code",
   "execution_count": 1,
   "metadata": {},
   "outputs": [
    {
     "name": "stdout",
     "output_type": "stream",
     "text": [
      "Running in /Users/tbody/Projects/extended-lengyel/notebooks\n"
     ]
    }
   ],
   "source": [
    "## Every notebook should start with this header\n",
    "# The next lines mean that changes in Python files are instantaneously applied\n",
    "%reload_ext autoreload\n",
    "%autoreload 2\n",
    "%matplotlib inline\n",
    "from pathlib import Path\n",
    "import xarray as xr\n",
    "\n",
    "# As a sanity check, print out the current working directory\n",
    "print(f\"Running in {Path('').absolute()}\")\n",
    "\n",
    "import cfspopcon\n",
    "from cfspopcon import Algorithm\n",
    "import extended_lengyel"
   ]
  },
  {
   "cell_type": "code",
   "execution_count": 2,
   "metadata": {},
   "outputs": [],
   "source": [
    "kallenbach_algorithm = cfspopcon.Algorithm.get_algorithm(\"kallenbach_idl_translation\")\n",
    "rcc_algorithm = cfspopcon.Algorithm.get_algorithm(\"kallenbach_model\")\n",
    "\n",
    "ds_rcc = xr.Dataset(data_vars=extended_lengyel.read_config(\n",
    "    elements=[\"base\", \"target_constraints\"],\n",
    "    keys=rcc_algorithm.input_keys,\n",
    "    allowed_missing=rcc_algorithm.default_keys\n",
    "))\n",
    "ds_rcc = Algorithm.get_algorithm(\"initialize_kallenbach_model\").update_dataset(ds_rcc)\n",
    "\n",
    "ds_kallenbach_no_fast_neutrals = xr.Dataset(data_vars=extended_lengyel.read_config(\n",
    "    elements=[\"base\", \"machine_geometry\", \"target_constraints\", \"fast_neutrals\", \"field_at_omp\"],\n",
    "    keys=kallenbach_algorithm.input_keys,\n",
    "    allowed_missing=kallenbach_algorithm.default_keys,\n",
    "    overrides=dict(fast_neutral_fraction = 0.0),\n",
    "))\n",
    "ds_kallenbach_no_fast_neutrals = Algorithm.get_algorithm(\"initialize_kallenbach_idl_translation\").update_dataset(ds_kallenbach_no_fast_neutrals)"
   ]
  },
  {
   "cell_type": "code",
   "execution_count": 3,
   "metadata": {},
   "outputs": [
    {
     "name": "stdout",
     "output_type": "stream",
     "text": [
      "Kallenbach: 340ms per loop\n",
      "RCC RK45: 609ms per loop (factor 0.558)\n",
      "RCC RK23: 257ms per loop (factor 1.32)\n",
      "RCC DOP853: 298ms per loop (factor 1.14)\n",
      "RCC Radau: 26.8ms per loop (factor 12.7)\n",
      "RCC BDF: 25.6ms per loop (factor 13.3)\n",
      "RCC LSODA: 20.3ms per loop (factor 16.7)\n"
     ]
    }
   ],
   "source": [
    "import timeit\n",
    "\n",
    "kallenbach_main_loop = Algorithm.get_algorithm(\"run_kallenbach_idl_translation\")\n",
    "rcc_main_loop = Algorithm.get_algorithm(\"run_kallenbach_model\")\n",
    "\n",
    "number_of_repeats_for_timing = 10\n",
    "\n",
    "kallenbach_time_per_eval = timeit.timeit(lambda: kallenbach_main_loop.update_dataset(ds_kallenbach_no_fast_neutrals), number=number_of_repeats_for_timing) / number_of_repeats_for_timing\n",
    "print(f\"Kallenbach: {kallenbach_time_per_eval * 1e3:.3g}ms per loop\")\n",
    "for ode_method in [\"RK45\", \"RK23\", \"DOP853\", \"Radau\", \"BDF\", \"LSODA\"]:\n",
    "    rcc_time_per_eval = timeit.timeit(lambda: rcc_main_loop.update_dataset(ds_rcc.update({\"ode_method\": ode_method})), number=number_of_repeats_for_timing) / number_of_repeats_for_timing\n",
    "    print(f\"RCC {ode_method}: {rcc_time_per_eval * 1e3:.3g}ms per loop (factor {kallenbach_time_per_eval / rcc_time_per_eval:.3g})\")"
   ]
  }
 ],
 "metadata": {
  "kernelspec": {
   "display_name": ".venv",
   "language": "python",
   "name": "python3"
  },
  "language_info": {
   "codemirror_mode": {
    "name": "ipython",
    "version": 3
   },
   "file_extension": ".py",
   "mimetype": "text/x-python",
   "name": "python",
   "nbconvert_exporter": "python",
   "pygments_lexer": "ipython3",
   "version": "3.12.10"
  }
 },
 "nbformat": 4,
 "nbformat_minor": 2
}
